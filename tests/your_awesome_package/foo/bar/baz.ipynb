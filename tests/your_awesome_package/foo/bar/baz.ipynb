{
 "cells": [
  {
   "cell_type": "code",
   "execution_count": 1,
   "metadata": {
    "execution": {
     "iopub.execute_input": "2022-09-20T03:50:49.765632Z",
     "iopub.status.busy": "2022-09-20T03:50:49.765349Z",
     "iopub.status.idle": "2022-09-20T03:50:49.777436Z",
     "shell.execute_reply": "2022-09-20T03:50:49.776953Z"
    }
   },
   "outputs": [],
   "source": [
    "import package_root\n",
    "import foo.your_dope_module\n",
    "\n",
    "with open('itworked.txt', 'w') as f:\n",
    "    f.write('it worked')"
   ]
  }
 ],
 "metadata": {
  "kernelspec": {
   "display_name": "Python 3.10.3 64-bit ('3.10.3')",
   "language": "python",
   "name": "python3"
  },
  "language_info": {
   "codemirror_mode": {
    "name": "ipython",
    "version": 3
   },
   "file_extension": ".py",
   "mimetype": "text/x-python",
   "name": "python",
   "nbconvert_exporter": "python",
   "pygments_lexer": "ipython3",
   "version": "3.10.3"
  },
  "vscode": {
   "interpreter": {
    "hash": "bb010b6679e3246dbe6d4f333bd031f8409999390268babd6faf0f9d4298e193"
   }
  }
 },
 "nbformat": 4,
 "nbformat_minor": 2
}
